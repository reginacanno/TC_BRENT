{
 "cells": [
  {
   "cell_type": "code",
   "execution_count": 8,
   "metadata": {},
   "outputs": [
    {
     "name": "stderr",
     "output_type": "stream",
     "text": [
      "WARNING:absl:Compiled the loaded model, but the compiled metrics have yet to be built. `model.compile_metrics` will be empty until you train or evaluate the model.\n"
     ]
    }
   ],
   "source": [
    "import streamlit as st\n",
    "import pandas as pd\n",
    "import numpy as np\n",
    "import matplotlib.pyplot as plt\n",
    "import previsao_preco_petrolio_diario\n",
    "import joblib\n",
    "from tensorflow.keras.models import load_model\n",
    "from sklearn.preprocessing import MinMaxScaler\n",
    "from sklearn.metrics import mean_squared_error, mean_absolute_error, r2_score\n",
    "from keras.models import Sequential\n",
    "from keras.layers import LSTM, Dense\n",
    "\n",
    "\n",
    "# Carregar o modelo\n",
    "model = load_model(r\"C:\\Users\\regin\\Documents\\Postech\\Projeto-BRENT\\modelo_lstm_brent.h5\")\n",
    "\n",
    "\n",
    "# Carregar os dados\n",
    "file_path = r\"C:\\Users\\regin\\Documents\\Postech\\Projeto-BRENT\\dados_treinamento.pkl\"\n",
    "X_train, X_test, y_train, y_test, scaler = joblib.load(file_path)\n",
    "\n"
   ]
  },
  {
   "cell_type": "code",
   "execution_count": 9,
   "metadata": {},
   "outputs": [
    {
     "name": "stdout",
     "output_type": "stream",
     "text": [
      "\u001b[1m283/283\u001b[0m \u001b[32m━━━━━━━━━━━━━━━━━━━━\u001b[0m\u001b[37m\u001b[0m \u001b[1m1s\u001b[0m 4ms/step\n",
      "\u001b[1m71/71\u001b[0m \u001b[32m━━━━━━━━━━━━━━━━━━━━\u001b[0m\u001b[37m\u001b[0m \u001b[1m0s\u001b[0m 3ms/step\n",
      "MSE no conjunto de teste: 7.911100832223157\n",
      "MAE no conjunto de teste: 1.862448896185034\n",
      "R² no conjunto de teste: 0.9929995425818975\n"
     ]
    }
   ],
   "source": [
    "# Fazer previsões\n",
    "train_predict = model.predict(X_train)\n",
    "test_predict = model.predict(X_test)\n",
    "\n",
    "# Inverter a escala das previsões\n",
    "train_predict = scaler.inverse_transform(train_predict)\n",
    "test_predict = scaler.inverse_transform(test_predict)\n",
    "\n",
    "# Inverter a escala dos dados reais\n",
    "y_train = scaler.inverse_transform([y_train])\n",
    "y_test = scaler.inverse_transform([y_test])\n",
    "\n",
    "# Avaliar a performance no conjunto de teste\n",
    "mse = mean_squared_error(y_test[0], test_predict[:, 0])\n",
    "mae = mean_absolute_error(y_test[0], test_predict[:, 0])\n",
    "r2 = r2_score(y_test[0], test_predict[:, 0])\n",
    "print(f'MSE no conjunto de teste: {mse}')\n",
    "print(f'MAE no conjunto de teste: {mae}')\n",
    "print(f'R² no conjunto de teste: {r2}')"
   ]
  }
 ],
 "metadata": {
  "kernelspec": {
   "display_name": "Python 3",
   "language": "python",
   "name": "python3"
  },
  "language_info": {
   "codemirror_mode": {
    "name": "ipython",
    "version": 3
   },
   "file_extension": ".py",
   "mimetype": "text/x-python",
   "name": "python",
   "nbconvert_exporter": "python",
   "pygments_lexer": "ipython3",
   "version": "3.10.11"
  }
 },
 "nbformat": 4,
 "nbformat_minor": 2
}
