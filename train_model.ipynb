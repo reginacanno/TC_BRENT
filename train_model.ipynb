{
 "cells": [
  {
   "cell_type": "code",
   "execution_count": 29,
   "metadata": {},
   "outputs": [],
   "source": [
    "import pandas as pd\n",
    "import numpy as np\n",
    "import matplotlib.pyplot as plt\n",
    "from sklearn.preprocessing import MinMaxScaler\n",
    "from sklearn.metrics import mean_squared_error, mean_absolute_error, r2_score\n",
    "from keras.models import Sequential\n",
    "from keras.layers import LSTM, Dense"
   ]
  },
  {
   "cell_type": "code",
   "execution_count": 30,
   "metadata": {},
   "outputs": [
    {
     "name": "stderr",
     "output_type": "stream",
     "text": [
      "2024-11-17 01:31:26.311 No runtime found, using MemoryCacheStorageManager\n",
      "2024-11-17 01:31:26.318 Thread 'MainThread': missing ScriptRunContext! This warning can be ignored when running in bare mode.\n",
      "2024-11-17 01:31:26.319 Thread 'MainThread': missing ScriptRunContext! This warning can be ignored when running in bare mode.\n",
      "2024-11-17 01:31:26.320 Thread 'MainThread': missing ScriptRunContext! This warning can be ignored when running in bare mode.\n",
      "2024-11-17 01:31:26.349 Thread 'MainThread': missing ScriptRunContext! This warning can be ignored when running in bare mode.\n",
      "2024-11-17 01:31:26.351 Thread 'MainThread': missing ScriptRunContext! This warning can be ignored when running in bare mode.\n"
     ]
    }
   ],
   "source": [
    "# Carregar Dados Diretamente da API\n",
    "@st.cache_data\n",
    "def load_data():\n",
    "    # Código da série do Petróleo Brent\n",
    "    codigo_serie = \"EIA366_PBRENT366\"\n",
    "\n",
    "    # Obter os dados da API\n",
    "    df = timeseries(codigo_serie)\n",
    "\n",
    "    # Converter 'RAW DATE' para datetime\n",
    "    df['RAW DATE'] = pd.to_datetime(df['RAW DATE'], errors='coerce', utc=True)\n",
    "\n",
    "    # Remover linhas inválidas (sem data ou valor de preço)\n",
    "    df = df.dropna(subset=['RAW DATE', 'VALUE (US$)'])\n",
    "\n",
    "    # Renomear as colunas\n",
    "    df.rename(columns={'VALUE (US$)': 'price', 'RAW DATE': 'date'}, inplace=True)\n",
    "\n",
    "    return df\n",
    "\n",
    "# Carregar os dados\n",
    "df = load_data()"
   ]
  },
  {
   "cell_type": "code",
   "execution_count": null,
   "metadata": {},
   "outputs": [
    {
     "name": "stdout",
     "output_type": "stream",
     "text": [
      "                        CODE                      date  DAY  MONTH  YEAR  \\\n",
      "DATE                                                                       \n",
      "1987-05-20  EIA366_PBRENT366 1987-05-20 03:00:00+00:00   20      5  1987   \n",
      "1987-05-21  EIA366_PBRENT366 1987-05-21 03:00:00+00:00   21      5  1987   \n",
      "1987-05-22  EIA366_PBRENT366 1987-05-22 03:00:00+00:00   22      5  1987   \n",
      "1987-05-25  EIA366_PBRENT366 1987-05-25 03:00:00+00:00   25      5  1987   \n",
      "1987-05-26  EIA366_PBRENT366 1987-05-26 03:00:00+00:00   26      5  1987   \n",
      "\n",
      "            price  \n",
      "DATE               \n",
      "1987-05-20  18.63  \n",
      "1987-05-21  18.45  \n",
      "1987-05-22  18.55  \n",
      "1987-05-25  18.60  \n",
      "1987-05-26  18.63  \n"
     ]
    }
   ],
   "source": [
    "# Detectar outliers (usando o método IQR)\n",
    "Q1 = df['price'].quantile(0.25)\n",
    "Q3 = df['price'].quantile(0.75)\n",
    "IQR = Q3 - Q1\n",
    "lower_bound = Q1 - 1.5 * IQR\n",
    "upper_bound = Q3 + 1.5 * IQR\n",
    "data = df[(df['price'] >= lower_bound) & (df['price'] <= upper_bound)]"
   ]
  },
  {
   "cell_type": "code",
   "execution_count": 33,
   "metadata": {},
   "outputs": [],
   "source": [
    "# Dividir os dados em treinamento e teste aleatoriamente\n",
    "train_data = data.sample(frac=0.8, random_state=42)\n",
    "test_data = data.drop(train_data.index)\n",
    "\n",
    "# Ordenar os dados por data após a amostragem\n",
    "train_data = train_data.sort_values('DATE')\n",
    "test_data = test_data.sort_values('DATE')"
   ]
  },
  {
   "cell_type": "code",
   "execution_count": 34,
   "metadata": {},
   "outputs": [],
   "source": [
    "scaler = MinMaxScaler(feature_range=(0, 1))\n",
    "scaled_train_data = scaler.fit_transform(train_data['price'].values.reshape(-1, 1))\n",
    "scaled_test_data = scaler.transform(test_data['price'].values.reshape(-1, 1))"
   ]
  },
  {
   "cell_type": "code",
   "execution_count": 35,
   "metadata": {},
   "outputs": [],
   "source": [
    "# Função para criar uma estrutura de dados com janelas de tempo\n",
    "def create_dataset(dataset, time_step=1):\n",
    "    dataX, dataY = [], []\n",
    "    for i in range(len(dataset) - time_step - 1):\n",
    "        a = dataset[i:(i + time_step), 0]\n",
    "        dataX.append(a)\n",
    "        dataY.append(dataset[i + time_step, 0])\n",
    "    return np.array(dataX), np.array(dataY)\n",
    "\n",
    "# Criar o conjunto de dados para o modelo LSTM\n",
    "time_step = 10\n",
    "X_train, y_train = create_dataset(scaled_train_data, time_step)\n",
    "X_test, y_test = create_dataset(scaled_test_data, time_step)\n",
    "\n",
    "# Redimensionar a entrada para [amostras, time steps, features] que é necessário para LSTM\n",
    "X_train = X_train.reshape(X_train.shape[0], X_train.shape[1], 1)\n",
    "X_test = X_test.reshape(X_test.shape[0], X_test.shape[1], 1)"
   ]
  },
  {
   "cell_type": "code",
   "execution_count": 36,
   "metadata": {},
   "outputs": [
    {
     "name": "stderr",
     "output_type": "stream",
     "text": [
      "c:\\Users\\regin\\AppData\\Local\\Programs\\Python\\Python310\\lib\\site-packages\\keras\\src\\layers\\rnn\\rnn.py:204: UserWarning: Do not pass an `input_shape`/`input_dim` argument to a layer. When using Sequential models, prefer using an `Input(shape)` object as the first layer in the model instead.\n",
      "  super().__init__(**kwargs)\n"
     ]
    },
    {
     "name": "stdout",
     "output_type": "stream",
     "text": [
      "Epoch 1/50\n",
      "\u001b[1m9027/9027\u001b[0m \u001b[32m━━━━━━━━━━━━━━━━━━━━\u001b[0m\u001b[37m\u001b[0m \u001b[1m59s\u001b[0m 6ms/step - loss: 0.0013\n",
      "Epoch 2/50\n",
      "\u001b[1m9027/9027\u001b[0m \u001b[32m━━━━━━━━━━━━━━━━━━━━\u001b[0m\u001b[37m\u001b[0m \u001b[1m49s\u001b[0m 5ms/step - loss: 2.9582e-04\n",
      "Epoch 3/50\n",
      "\u001b[1m9027/9027\u001b[0m \u001b[32m━━━━━━━━━━━━━━━━━━━━\u001b[0m\u001b[37m\u001b[0m \u001b[1m48s\u001b[0m 5ms/step - loss: 2.2686e-04\n",
      "Epoch 4/50\n",
      "\u001b[1m9027/9027\u001b[0m \u001b[32m━━━━━━━━━━━━━━━━━━━━\u001b[0m\u001b[37m\u001b[0m \u001b[1m51s\u001b[0m 6ms/step - loss: 2.2800e-04\n",
      "Epoch 5/50\n",
      "\u001b[1m9027/9027\u001b[0m \u001b[32m━━━━━━━━━━━━━━━━━━━━\u001b[0m\u001b[37m\u001b[0m \u001b[1m46s\u001b[0m 5ms/step - loss: 2.0932e-04\n",
      "Epoch 6/50\n",
      "\u001b[1m9027/9027\u001b[0m \u001b[32m━━━━━━━━━━━━━━━━━━━━\u001b[0m\u001b[37m\u001b[0m \u001b[1m48s\u001b[0m 5ms/step - loss: 1.9550e-04\n",
      "Epoch 7/50\n",
      "\u001b[1m9027/9027\u001b[0m \u001b[32m━━━━━━━━━━━━━━━━━━━━\u001b[0m\u001b[37m\u001b[0m \u001b[1m48s\u001b[0m 5ms/step - loss: 1.9363e-04\n",
      "Epoch 8/50\n",
      "\u001b[1m9027/9027\u001b[0m \u001b[32m━━━━━━━━━━━━━━━━━━━━\u001b[0m\u001b[37m\u001b[0m \u001b[1m48s\u001b[0m 5ms/step - loss: 1.8438e-04\n",
      "Epoch 9/50\n",
      "\u001b[1m9027/9027\u001b[0m \u001b[32m━━━━━━━━━━━━━━━━━━━━\u001b[0m\u001b[37m\u001b[0m \u001b[1m52s\u001b[0m 6ms/step - loss: 1.7928e-04\n",
      "Epoch 10/50\n",
      "\u001b[1m9027/9027\u001b[0m \u001b[32m━━━━━━━━━━━━━━━━━━━━\u001b[0m\u001b[37m\u001b[0m \u001b[1m52s\u001b[0m 6ms/step - loss: 1.8593e-04\n",
      "Epoch 11/50\n",
      "\u001b[1m9027/9027\u001b[0m \u001b[32m━━━━━━━━━━━━━━━━━━━━\u001b[0m\u001b[37m\u001b[0m \u001b[1m52s\u001b[0m 6ms/step - loss: 1.8455e-04\n",
      "Epoch 12/50\n",
      "\u001b[1m9027/9027\u001b[0m \u001b[32m━━━━━━━━━━━━━━━━━━━━\u001b[0m\u001b[37m\u001b[0m \u001b[1m48s\u001b[0m 5ms/step - loss: 1.7387e-04\n",
      "Epoch 13/50\n",
      "\u001b[1m9027/9027\u001b[0m \u001b[32m━━━━━━━━━━━━━━━━━━━━\u001b[0m\u001b[37m\u001b[0m \u001b[1m51s\u001b[0m 6ms/step - loss: 1.7522e-04\n",
      "Epoch 14/50\n",
      "\u001b[1m9027/9027\u001b[0m \u001b[32m━━━━━━━━━━━━━━━━━━━━\u001b[0m\u001b[37m\u001b[0m \u001b[1m48s\u001b[0m 5ms/step - loss: 1.7948e-04\n",
      "Epoch 15/50\n",
      "\u001b[1m9027/9027\u001b[0m \u001b[32m━━━━━━━━━━━━━━━━━━━━\u001b[0m\u001b[37m\u001b[0m \u001b[1m49s\u001b[0m 5ms/step - loss: 1.7348e-04\n",
      "Epoch 16/50\n",
      "\u001b[1m9027/9027\u001b[0m \u001b[32m━━━━━━━━━━━━━━━━━━━━\u001b[0m\u001b[37m\u001b[0m \u001b[1m50s\u001b[0m 6ms/step - loss: 1.7554e-04\n",
      "Epoch 17/50\n",
      "\u001b[1m9027/9027\u001b[0m \u001b[32m━━━━━━━━━━━━━━━━━━━━\u001b[0m\u001b[37m\u001b[0m \u001b[1m53s\u001b[0m 6ms/step - loss: 1.8475e-04\n",
      "Epoch 18/50\n",
      "\u001b[1m9027/9027\u001b[0m \u001b[32m━━━━━━━━━━━━━━━━━━━━\u001b[0m\u001b[37m\u001b[0m \u001b[1m50s\u001b[0m 6ms/step - loss: 1.6838e-04\n",
      "Epoch 19/50\n",
      "\u001b[1m9027/9027\u001b[0m \u001b[32m━━━━━━━━━━━━━━━━━━━━\u001b[0m\u001b[37m\u001b[0m \u001b[1m49s\u001b[0m 5ms/step - loss: 1.7560e-04\n",
      "Epoch 20/50\n",
      "\u001b[1m9027/9027\u001b[0m \u001b[32m━━━━━━━━━━━━━━━━━━━━\u001b[0m\u001b[37m\u001b[0m \u001b[1m53s\u001b[0m 6ms/step - loss: 1.6889e-04\n",
      "Epoch 21/50\n",
      "\u001b[1m9027/9027\u001b[0m \u001b[32m━━━━━━━━━━━━━━━━━━━━\u001b[0m\u001b[37m\u001b[0m \u001b[1m50s\u001b[0m 6ms/step - loss: 1.6561e-04\n",
      "Epoch 22/50\n",
      "\u001b[1m9027/9027\u001b[0m \u001b[32m━━━━━━━━━━━━━━━━━━━━\u001b[0m\u001b[37m\u001b[0m \u001b[1m49s\u001b[0m 5ms/step - loss: 1.6820e-04\n",
      "Epoch 23/50\n",
      "\u001b[1m9027/9027\u001b[0m \u001b[32m━━━━━━━━━━━━━━━━━━━━\u001b[0m\u001b[37m\u001b[0m \u001b[1m49s\u001b[0m 5ms/step - loss: 1.6458e-04\n",
      "Epoch 24/50\n",
      "\u001b[1m9027/9027\u001b[0m \u001b[32m━━━━━━━━━━━━━━━━━━━━\u001b[0m\u001b[37m\u001b[0m \u001b[1m48s\u001b[0m 5ms/step - loss: 1.6276e-04\n",
      "Epoch 25/50\n",
      "\u001b[1m9027/9027\u001b[0m \u001b[32m━━━━━━━━━━━━━━━━━━━━\u001b[0m\u001b[37m\u001b[0m \u001b[1m50s\u001b[0m 6ms/step - loss: 1.6678e-04\n",
      "Epoch 26/50\n",
      "\u001b[1m9027/9027\u001b[0m \u001b[32m━━━━━━━━━━━━━━━━━━━━\u001b[0m\u001b[37m\u001b[0m \u001b[1m50s\u001b[0m 6ms/step - loss: 1.6770e-04\n",
      "Epoch 27/50\n",
      "\u001b[1m9027/9027\u001b[0m \u001b[32m━━━━━━━━━━━━━━━━━━━━\u001b[0m\u001b[37m\u001b[0m \u001b[1m48s\u001b[0m 5ms/step - loss: 1.6005e-04\n",
      "Epoch 28/50\n",
      "\u001b[1m9027/9027\u001b[0m \u001b[32m━━━━━━━━━━━━━━━━━━━━\u001b[0m\u001b[37m\u001b[0m \u001b[1m47s\u001b[0m 5ms/step - loss: 1.7241e-04\n",
      "Epoch 29/50\n",
      "\u001b[1m9027/9027\u001b[0m \u001b[32m━━━━━━━━━━━━━━━━━━━━\u001b[0m\u001b[37m\u001b[0m \u001b[1m49s\u001b[0m 5ms/step - loss: 1.7475e-04\n",
      "Epoch 30/50\n",
      "\u001b[1m9027/9027\u001b[0m \u001b[32m━━━━━━━━━━━━━━━━━━━━\u001b[0m\u001b[37m\u001b[0m \u001b[1m48s\u001b[0m 5ms/step - loss: 1.5843e-04\n",
      "Epoch 31/50\n",
      "\u001b[1m9027/9027\u001b[0m \u001b[32m━━━━━━━━━━━━━━━━━━━━\u001b[0m\u001b[37m\u001b[0m \u001b[1m48s\u001b[0m 5ms/step - loss: 1.5778e-04\n",
      "Epoch 32/50\n",
      "\u001b[1m9027/9027\u001b[0m \u001b[32m━━━━━━━━━━━━━━━━━━━━\u001b[0m\u001b[37m\u001b[0m \u001b[1m50s\u001b[0m 5ms/step - loss: 1.6069e-04\n",
      "Epoch 33/50\n",
      "\u001b[1m9027/9027\u001b[0m \u001b[32m━━━━━━━━━━━━━━━━━━━━\u001b[0m\u001b[37m\u001b[0m \u001b[1m51s\u001b[0m 6ms/step - loss: 1.6100e-04\n",
      "Epoch 34/50\n",
      "\u001b[1m9027/9027\u001b[0m \u001b[32m━━━━━━━━━━━━━━━━━━━━\u001b[0m\u001b[37m\u001b[0m \u001b[1m53s\u001b[0m 6ms/step - loss: 1.7455e-04\n",
      "Epoch 35/50\n",
      "\u001b[1m9027/9027\u001b[0m \u001b[32m━━━━━━━━━━━━━━━━━━━━\u001b[0m\u001b[37m\u001b[0m \u001b[1m50s\u001b[0m 6ms/step - loss: 1.5977e-04\n",
      "Epoch 36/50\n",
      "\u001b[1m9027/9027\u001b[0m \u001b[32m━━━━━━━━━━━━━━━━━━━━\u001b[0m\u001b[37m\u001b[0m \u001b[1m52s\u001b[0m 6ms/step - loss: 1.6109e-04\n",
      "Epoch 37/50\n",
      "\u001b[1m9027/9027\u001b[0m \u001b[32m━━━━━━━━━━━━━━━━━━━━\u001b[0m\u001b[37m\u001b[0m \u001b[1m51s\u001b[0m 6ms/step - loss: 1.7213e-04\n",
      "Epoch 38/50\n",
      "\u001b[1m9027/9027\u001b[0m \u001b[32m━━━━━━━━━━━━━━━━━━━━\u001b[0m\u001b[37m\u001b[0m \u001b[1m49s\u001b[0m 5ms/step - loss: 1.5555e-04\n",
      "Epoch 39/50\n",
      "\u001b[1m9027/9027\u001b[0m \u001b[32m━━━━━━━━━━━━━━━━━━━━\u001b[0m\u001b[37m\u001b[0m \u001b[1m49s\u001b[0m 5ms/step - loss: 1.6074e-04\n",
      "Epoch 40/50\n",
      "\u001b[1m9027/9027\u001b[0m \u001b[32m━━━━━━━━━━━━━━━━━━━━\u001b[0m\u001b[37m\u001b[0m \u001b[1m50s\u001b[0m 6ms/step - loss: 1.6504e-04\n",
      "Epoch 41/50\n",
      "\u001b[1m9027/9027\u001b[0m \u001b[32m━━━━━━━━━━━━━━━━━━━━\u001b[0m\u001b[37m\u001b[0m \u001b[1m51s\u001b[0m 6ms/step - loss: 1.5561e-04\n",
      "Epoch 42/50\n",
      "\u001b[1m9027/9027\u001b[0m \u001b[32m━━━━━━━━━━━━━━━━━━━━\u001b[0m\u001b[37m\u001b[0m \u001b[1m51s\u001b[0m 6ms/step - loss: 1.6433e-04\n",
      "Epoch 43/50\n",
      "\u001b[1m9027/9027\u001b[0m \u001b[32m━━━━━━━━━━━━━━━━━━━━\u001b[0m\u001b[37m\u001b[0m \u001b[1m50s\u001b[0m 6ms/step - loss: 1.6177e-04\n",
      "Epoch 44/50\n",
      "\u001b[1m9027/9027\u001b[0m \u001b[32m━━━━━━━━━━━━━━━━━━━━\u001b[0m\u001b[37m\u001b[0m \u001b[1m50s\u001b[0m 6ms/step - loss: 1.5553e-04\n",
      "Epoch 45/50\n",
      "\u001b[1m9027/9027\u001b[0m \u001b[32m━━━━━━━━━━━━━━━━━━━━\u001b[0m\u001b[37m\u001b[0m \u001b[1m50s\u001b[0m 5ms/step - loss: 1.5908e-04\n",
      "Epoch 46/50\n",
      "\u001b[1m9027/9027\u001b[0m \u001b[32m━━━━━━━━━━━━━━━━━━━━\u001b[0m\u001b[37m\u001b[0m \u001b[1m56s\u001b[0m 6ms/step - loss: 1.4873e-04\n",
      "Epoch 47/50\n",
      "\u001b[1m9027/9027\u001b[0m \u001b[32m━━━━━━━━━━━━━━━━━━━━\u001b[0m\u001b[37m\u001b[0m \u001b[1m52s\u001b[0m 6ms/step - loss: 1.5367e-04\n",
      "Epoch 48/50\n",
      "\u001b[1m9027/9027\u001b[0m \u001b[32m━━━━━━━━━━━━━━━━━━━━\u001b[0m\u001b[37m\u001b[0m \u001b[1m48s\u001b[0m 5ms/step - loss: 1.5078e-04\n",
      "Epoch 49/50\n",
      "\u001b[1m9027/9027\u001b[0m \u001b[32m━━━━━━━━━━━━━━━━━━━━\u001b[0m\u001b[37m\u001b[0m \u001b[1m50s\u001b[0m 6ms/step - loss: 1.5535e-04\n",
      "Epoch 50/50\n",
      "\u001b[1m9027/9027\u001b[0m \u001b[32m━━━━━━━━━━━━━━━━━━━━\u001b[0m\u001b[37m\u001b[0m \u001b[1m53s\u001b[0m 6ms/step - loss: 1.5860e-04\n"
     ]
    },
    {
     "data": {
      "text/plain": [
       "<keras.src.callbacks.history.History at 0x1bbfe8a7cd0>"
      ]
     },
     "execution_count": 36,
     "metadata": {},
     "output_type": "execute_result"
    }
   ],
   "source": [
    "# Criar o modelo LSTM\n",
    "model = Sequential()\n",
    "model.add(LSTM(50, return_sequences=True, input_shape=(time_step, 1)))\n",
    "model.add(LSTM(50, return_sequences=False))\n",
    "model.add(Dense(1))\n",
    "model.compile(optimizer='adam', loss='mean_squared_error')\n",
    "\n",
    "# Treinar o modelo\n",
    "model.fit(X_train, y_train, epochs=50, batch_size=1, verbose=1)"
   ]
  },
  {
   "cell_type": "code",
   "execution_count": 1,
   "metadata": {},
   "outputs": [
    {
     "ename": "NameError",
     "evalue": "name 'model' is not defined",
     "output_type": "error",
     "traceback": [
      "\u001b[1;31m---------------------------------------------------------------------------\u001b[0m",
      "\u001b[1;31mNameError\u001b[0m                                 Traceback (most recent call last)",
      "Cell \u001b[1;32mIn[1], line 4\u001b[0m\n\u001b[0;32m      1\u001b[0m \u001b[38;5;28;01mimport\u001b[39;00m \u001b[38;5;21;01mjoblib\u001b[39;00m\n\u001b[0;32m      3\u001b[0m \u001b[38;5;66;03m# Salvar o modelo\u001b[39;00m\n\u001b[1;32m----> 4\u001b[0m \u001b[43mmodel\u001b[49m\u001b[38;5;241m.\u001b[39msave(\u001b[38;5;124m\"\u001b[39m\u001b[38;5;124mmodelo_lstm_brent.h5\u001b[39m\u001b[38;5;124m\"\u001b[39m)\n\u001b[0;32m      6\u001b[0m \u001b[38;5;66;03m# Salvar os dados de treino e teste\u001b[39;00m\n\u001b[0;32m      7\u001b[0m joblib\u001b[38;5;241m.\u001b[39mdump((X_train, X_test, y_train, y_test, scaler), \u001b[38;5;124m\"\u001b[39m\u001b[38;5;124mdados_treinamento.pkl\u001b[39m\u001b[38;5;124m\"\u001b[39m)\n",
      "\u001b[1;31mNameError\u001b[0m: name 'model' is not defined"
     ]
    }
   ],
   "source": [
    "import joblib\n",
    "\n",
    "# Salvar o modelo\n",
    "model.save(\"modelo_lstm_brent.h5\")\n",
    "\n",
    "# Salvar os dados de treino e teste\n",
    "joblib.dump((X_train, X_test, y_train, y_test, scaler), \"dados_treinamento.pkl\")\n"
   ]
  }
 ],
 "metadata": {
  "kernelspec": {
   "display_name": "Python 3",
   "language": "python",
   "name": "python3"
  },
  "language_info": {
   "codemirror_mode": {
    "name": "ipython",
    "version": 3
   },
   "file_extension": ".py",
   "mimetype": "text/x-python",
   "name": "python",
   "nbconvert_exporter": "python",
   "pygments_lexer": "ipython3",
   "version": "3.10.11"
  }
 },
 "nbformat": 4,
 "nbformat_minor": 2
}
